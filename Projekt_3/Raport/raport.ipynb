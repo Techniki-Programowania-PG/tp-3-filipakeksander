{
 "cells": [
  {
   "cell_type": "markdown",
   "id": "130aff52",
   "metadata": {},
   "source": [
    "# TECHNIKI PROGRAMOWANIA - projekt 3\n",
    "### Filip Skudlarz 203314\n",
    "### Aleksander Kargol 203225\n",
    "\n",
    "Wykorzystane biblioteki:\n",
    "- matplotplusplus (c++)\n",
    "- pybind11 (c++)\n",
    "- vector (c++)\n",
    "- cstdlib (c++)\n",
    "- cmath (c++)\n",
    "- complex (c++)\n",
    "- ctime (c++)\n",
    "- NumPy (Python, tylko do prezentacji filtracji)\n",
    "- Pillow (Python, tylko do prezentacji filtracji 2D)"
   ]
  },
  {
   "cell_type": "markdown",
   "id": "912ea1b3",
   "metadata": {},
   "source": [
    "# 1. Wizualizacja sygnału z wykorzystaniem biblioteki matplotplusplus"
   ]
  },
  {
   "cell_type": "markdown",
   "id": "9b3ab60d",
   "metadata": {},
   "source": [
    "## Wizualizacja wykresów 1D\n",
    "Za pomocą wyswietl_1D( sygnał , Tytuł wykresu , Nazwa osi Y , Nazwa pliku)\n",
    "\n",
    "Funkcja ta wyświetla / zapisuje sygnał, gdzie oś X składa się z indeksów sygnału, a oś Y wartości na danych indeksach"
   ]
  },
  {
   "cell_type": "code",
   "execution_count": 1,
   "id": "afe9f0aa",
   "metadata": {},
   "outputs": [],
   "source": [
    "import tp3_filipaleksander as lib\n",
    "\n",
    "sin = lib.generuj_sin(1,1,2000,0,10,0)\n",
    "lib.wyswietl_1D(sin[1],\"Wykres 1D sin(2πft)\",\"Wartość\",\"wizualizacja_1D_sin.jpg\") \n",
    "#zapisano do pliku wizualizacja_1D_sin.jpg\n",
    "\n",
    "prostokatny = lib.generuj_prostokatny(2,2,500,50,0,2)\n",
    "lib.wyswietl_1D(prostokatny[1],\"Wykres 1D sygnału prostokątnego\",\"Wartość\",\"wizualizacja_1D_prostokatny.jpg\") \n",
    "#zapisano do pliku wizualizacja_1D_prostokatny.jpg"
   ]
  },
  {
   "cell_type": "markdown",
   "id": "4a75c126",
   "metadata": {},
   "source": [
    "![Wykres 1D sinusa](wizualizacja_1D_sin.jpg)\n",
    "![Wykres 1D sygnału prostokątnego](wizualizacja_1D_prostokatny.jpg)"
   ]
  },
  {
   "cell_type": "markdown",
   "id": "03234bcd",
   "metadata": {},
   "source": [
    "## Wizualizacja wykresów 2D\n",
    "Za pomocą wyswietl_2D( oś X, oś Y , Tytuł wykresu , Nazwa osi Y , Nazwa osi X , Nazwa pliku)\n",
    "\n",
    "Funkcja ta wyświetla/zapisuje wykres y(x)"
   ]
  },
  {
   "cell_type": "code",
   "execution_count": 2,
   "id": "d196ad04",
   "metadata": {},
   "outputs": [],
   "source": [
    "import tp3_filipaleksander as lib\n",
    "\n",
    "sygnal_cos = lib.generuj_cos(1,1,1000,0,10,0)\n",
    "lib.wyswietl_2D(sygnal_cos[0],sygnal_cos[1],\"Wykres 2D cos(2πft)\",\"Wartość\",\"Czas\",\"wizualizacja_2D_cos.jpg\")\n",
    "#zapisano do pliku wizualizacja_2D_cos.jpg\n",
    "\n",
    "sygnal_prostokat = lib.generuj_prostokatny(10,1.5,2000,70,0,1)\n",
    "lib.wyswietl_2D(sygnal_prostokat[0],sygnal_prostokat[1],\"Wykres 2D sygnału prostokątnego\",\"Wartość\",\"Czas\",\"wizualizacja_2D_prostokatny.jpg\")\n",
    "#zapisano do pliku wizualizacja_2D_prostokatny.jpg"
   ]
  },
  {
   "cell_type": "markdown",
   "id": "fb2cb008",
   "metadata": {},
   "source": [
    "![Wykres 2D cos](wizualizacja_2D_cos.jpg)\n",
    "![Wykres 2D sygnału prostokątnego](wizualizacja_2D_prostokatny.jpg)"
   ]
  },
  {
   "cell_type": "markdown",
   "id": "1e06e77d",
   "metadata": {},
   "source": [
    "# 2. DFT i transformata odwrotna"
   ]
  },
  {
   "cell_type": "markdown",
   "id": "147b0d7c",
   "metadata": {},
   "source": [
    "Wykonnane za pomocą funkcji:\n",
    "\n",
    "dft( sygnał ) - oblicza dyskretną transformatę Fouriera danego sygnału\n",
    "\n",
    "idft( transformata ) - oblicza transformatę odwrotną danej transformaty\n",
    "\n",
    "wyswietl_amplitude_dft( transformata , Częstotliwość próbkowania , Czy tylko dodatnie częstotliwości , Tytuł wykresu , Nazwa pliku) - wyświetla amplitudy transformaty w danych częstotliwościach"
   ]
  },
  {
   "cell_type": "markdown",
   "id": "47b5940c",
   "metadata": {},
   "source": [
    "## Przykład 1: sin(20t)"
   ]
  },
  {
   "cell_type": "code",
   "execution_count": 3,
   "id": "bac45def",
   "metadata": {},
   "outputs": [],
   "source": [
    "import tp3_filipaleksander as lib\n",
    "\n",
    "N = 1000\n",
    "Czestotliwosc = 20\n",
    "Amplituda = 1\n",
    "x_min = 0\n",
    "x_max = 1\n",
    "\n",
    "sygnal_sin = lib.generuj_sin(Czestotliwosc,Amplituda,N,x_min,x_max,0)[1]\n",
    "lib.wyswietl_1D(sygnal_sin,\"Sygnał sin(20t)\",\"Wartość\",\"dft_sygnal_wejsciowy_sin.jpg\")\n",
    "#zapisano do pliku dft_sygnal_wejsciowy_sin.jpg\n",
    "\n",
    "transformata_sin = lib.dft(sygnal_sin)\n",
    "#obliczenie transformaty tego sygnału\n",
    "\n",
    "lib.wyswietl_1D(lib.wartosc_bezwzgledna(transformata_sin),\"Wykres 1D modułu dft sin(20t)\",\"\",\"dft_modul_transformaty_sin.jpg\")\n",
    "#zapisano do pliku dft_modul_transformaty_sin.jpg\n",
    "\n",
    "czestotliwosc_probkowania = N / (x_max - x_min)\n",
    "lib.wyswietl_amplitude_dft(transformata_sin,czestotliwosc_probkowania,True,\"Wykres amplitud z sin(20t) otrzymanych przez dft\",\"dft_amplitudy_sin.jpg\")\n",
    "#zapisano do pliku dft_amplitudy_sin.jpg\n",
    "\n",
    "idft_sin = lib.idft(transformata_sin)\n",
    "lib.wyswietl_1D(idft_sin,\"Wykres odwróconej transformaty sin(20t)\",\"Wartość\",\"dft_idft_sin.jpg\")\n",
    "#apisano do pliku dft_idft_sin.jpg"
   ]
  },
  {
   "cell_type": "markdown",
   "id": "5ddefecf",
   "metadata": {},
   "source": [
    "![Sygnał sin(20t)](dft_sygnal_wejsciowy_sin.jpg)\n",
    "![Wykres 1D modułu dft sin(20t)](dft_modul_transformaty_sin.jpg)\n",
    "![Wykres amplitud z sin(20t) otrzymanych przez dft](dft_amplitudy_sin.jpg)\n",
    "![Wykres odwróconej transformaty sin(20t)](dft_idft_sin.jpg)"
   ]
  },
  {
   "cell_type": "markdown",
   "id": "33708bf4",
   "metadata": {},
   "source": [
    "## Przykład 2: sygnał prostokątny"
   ]
  },
  {
   "cell_type": "code",
   "execution_count": 4,
   "id": "adf123d3",
   "metadata": {},
   "outputs": [],
   "source": [
    "import tp3_filipaleksander as lib\n",
    "\n",
    "N = 5000\n",
    "Czestotliwosc = 5\n",
    "Amplituda = 2\n",
    "Wypelnienie = 50\n",
    "x_min = 0\n",
    "x_max = 10\n",
    "\n",
    "sygnal_prostokat = lib.generuj_prostokatny(Czestotliwosc,Amplituda,N,Wypelnienie,x_min,x_max)[1]\n",
    "lib.wyswietl_1D(sygnal_prostokat,\"Sygnal wejściowy prostokatny\",\"Wartość\",\"dft_sygnal_wejsciowy_prostokat.jpg\")\n",
    "#zapisano do pliku dft_sygnal_wejsciowy_prostokat.jpg\n",
    "\n",
    "transformata_prostokat = lib.dft(sygnal_prostokat)\n",
    "lib.wyswietl_1D(lib.wartosc_bezwzgledna(transformata_prostokat),\"Wykres 1D modułu dft sygnału prostokątnego\",\"\",\"dft_modul_transformaty_prostokat.jpg\")\n",
    "#zapisano do pliku dft_modul_transformaty_prostokat.jpg\n",
    "\n",
    "czestotliwosc_probkowania = N / (x_max - x_min)\n",
    "lib.wyswietl_amplitude_dft(transformata_prostokat,czestotliwosc_probkowania,False,\"Wykres amplitud z sygnału prostokątnego otrzymanych przez dft\",\"dft_amplitudy_prostokat.jpg\")\n",
    "#zapisano do pliku dft_amplitudy_prostokat.jpg\n",
    "\n",
    "idft_prostokat = lib.idft(transformata_prostokat)\n",
    "lib.wyswietl_1D(idft_prostokat,\"Wykres odwróconej transformaty sygnału prostokątnego\",\"Wartość\",\"dft_idft_prostokat.jpg\")\n",
    "#apisano do pliku dft_idft_prostkat.jpg"
   ]
  },
  {
   "cell_type": "markdown",
   "id": "1b395002",
   "metadata": {},
   "source": [
    "![Sygnal wejściowy prostokatny](dft_sygnal_wejsciowy_prostokat.jpg)\n",
    "![Wykres 1D modułu dft sygnału prostokątnego](dft_modul_transformaty_prostokat.jpg)\n",
    "![Wykres amplitud z sygnału prostokątnego otrzymanych przez dft](dft_amplitudy_prostokat.jpg)\n",
    "![Wykres odwróconej transformaty sygnału prostokątnego](dft_idft_prostokat.jpg)"
   ]
  },
  {
   "cell_type": "markdown",
   "id": "902e6257",
   "metadata": {},
   "source": [
    "# 3. Filtracja 1D i 2D"
   ]
  },
  {
   "cell_type": "markdown",
   "id": "8906e809",
   "metadata": {},
   "source": [
    "## Filtracja 1D"
   ]
  },
  {
   "cell_type": "markdown",
   "id": "666756dc",
   "metadata": {},
   "source": [
    "Wykonana za pomocą funkcji:\n",
    "\n",
    "filtracja1D( sygnał 1D, filtr 1D) - filtruje sygnał za pomocą podanego filtra"
   ]
  },
  {
   "cell_type": "markdown",
   "id": "d76c73cb",
   "metadata": {},
   "source": [
    "### Przykład 1: filtr uśredniający"
   ]
  },
  {
   "cell_type": "code",
   "execution_count": 1,
   "id": "aa665562",
   "metadata": {},
   "outputs": [],
   "source": [
    "import tp3_filipaleksander as lib\n",
    "import numpy as np\n",
    "\n",
    "sygnal_sin = lib.generuj_sin(1,1,1000,0,10,0)[1]\n",
    "sygnal_sin = lib.zaszum(sygnal_sin,10)\n",
    "lib.wyswietl_1D(sygnal_sin,\"Zaszumiony sygnał sin(t)\",\"Wartość\",\"filtracja_1D_wejsciowy_sin.jpg\")\n",
    "#zapisano do pliku filtracja_1D_wejsciowy_sin.jpg\n",
    "\n",
    "filtr_usredniajacy = np.full(9,1/9)\n",
    "sygnal_sin_zfiltrowany = lib.filtracja1D(sygnal_sin,filtr_usredniajacy)\n",
    "lib.wyswietl_1D(sygnal_sin_zfiltrowany,\"Sygnał sin(t) przefiltrowany za pomocą filtru uśrednijącego\",\"Wartość\",\"filtracja_1D_przefiltrowany_sin.jpg\")\n",
    "#zapisano do pliku filtracja_1D_przefiltrowany_sin.jpg"
   ]
  },
  {
   "cell_type": "markdown",
   "id": "ba2221e4",
   "metadata": {},
   "source": [
    "![Zaszumiony sygnał sin(t)](filtracja_1D_wejsciowy_sin.jpg)\n",
    "![Sygnał sin(t) przefiltrowany za pomocą filtru uśrednijącego](filtracja_1D_przefiltrowany_sin.jpg)"
   ]
  },
  {
   "cell_type": "markdown",
   "id": "63ae57fa",
   "metadata": {},
   "source": [
    "### Przykład 2: Filtr różnicowy (pochodna)"
   ]
  },
  {
   "cell_type": "code",
   "execution_count": 1,
   "id": "89b08823",
   "metadata": {},
   "outputs": [],
   "source": [
    "import tp3_filipaleksander as lib\n",
    "import numpy as np\n",
    "\n",
    "sygnal_prostokat = lib.generuj_prostokatny(1,1,1000,50,0,5)\n",
    "lib.wyswietl_2D(sygnal_prostokat[0],sygnal_prostokat[1],\"Sygnał prostokątny\",\"Wartość\",\"Czas\",\"filtracja_1D_wejsciowy_prostokat.jpg\")\n",
    "#zapisano do pliku filtracja_1D_wejsciowy_prostokat.jpg\n",
    "\n",
    "filtr_roznicowy = [-1,0,1]\n",
    "sygnal_prostokat_zfiltrowany = lib.filtracja1D(sygnal_prostokat[1],filtr_roznicowy)\n",
    "lib.wyswietl_2D(sygnal_prostokat[0],sygnal_prostokat_zfiltrowany,\"Sygnał prostokątny przefiltrowany za pomocą filtru różnicowego\",\"Wartość\",\"Czas\",\"filtracja_1D_przefiltrowany_prostokat.jpg\")\n",
    "#zapisano do pliku filtracja_1D_przefiltrowany_prostokat.jpg"
   ]
  },
  {
   "cell_type": "markdown",
   "id": "fbf4d780",
   "metadata": {},
   "source": [
    "![Sygnał prostokątny](filtracja_1D_wejsciowy_prostokat.jpg)\n",
    "![Sygnał prostokątny przefiltrowany za pomocą filtru różnicowego](filtracja_1D_przefiltrowany_prostokat.jpg)"
   ]
  },
  {
   "cell_type": "markdown",
   "id": "3534b1c6",
   "metadata": {},
   "source": [
    "## Filtracja 2D"
   ]
  },
  {
   "cell_type": "markdown",
   "id": "fcd2a728",
   "metadata": {},
   "source": [
    "Wykonana za pomocą funkcji:\n",
    "\n",
    "filtracja2D( sygnał 2D , filtr 2D) - filtruje sygnał / zdjęcie za pomocą podanego filtra"
   ]
  },
  {
   "cell_type": "code",
   "execution_count": null,
   "id": "043f22aa",
   "metadata": {},
   "outputs": [],
   "source": [
    "import tp3_filipaleksander as lib\n",
    "from PIL import Image\n",
    "import numpy as np\n",
    "\n",
    "img = Image.open(\"pg_logo.jpg\").convert(\"L\")\n",
    "#pobranie zdjęcia z pliku i przekonwertowaniego na czarno-białe\n",
    "img_tablica = np.array(img)\n",
    "lib.wyswietl_img(img_tablica,\"Zdjęcie niefiltrowane\",\"filtracja_2D_niefiltrowane.jpg\")\n",
    "#zapisano do pliku filtracja_2D_niefiltrowane.jpg\n",
    "\n",
    "box_blur = np.full((9,9),1/81)\n",
    "img_box_blured = lib.filtracja2D(img_tablica,box_blur)\n",
    "lib.wyswietl_img(img_box_blured,\"Zdjęcie box blured\",\"filtracja_2D_box_blured.jpg\")\n",
    "#zapisano do pliku filtracja_2D_box_blured.jpg\n",
    "\n",
    "filtr_laplace = [[0,-1,0],[-1,4,-1],[0,-1,0]]\n",
    "img_laplace = lib.filtracja2D(img_tablica,filtr_laplace)\n",
    "lib.wyswietl_img(img_laplace,\"Zdjęcie przefiltrowane filtrem Laplac'a\",\"filtracja_2D_laplace.jpg\")\n",
    "#zapisano do pliku filtracja_2D_laplace.jpg"
   ]
  },
  {
   "cell_type": "markdown",
   "id": "c09a983e",
   "metadata": {},
   "source": [
    "![Zdjęcie niefiltrowane](filtracja_2D_niefiltrowane.jpg)\n",
    "![Zdjęcie box blured](filtracja_2D_box_blured.jpg)\n",
    "![Zdjęcie przefiltrowane filtrem Laplac'a](filtracja_2D_laplace.jpg)"
   ]
  },
  {
   "cell_type": "markdown",
   "id": "21ee1c0a",
   "metadata": {},
   "source": [
    "# 4. Generowanie sygnałów o zadanej częstotliwości (sin, cos, prostokątny, piłokształtny)"
   ]
  },
  {
   "cell_type": "markdown",
   "id": "f04f93f7",
   "metadata": {},
   "source": [
    "## Sygnał sin"
   ]
  },
  {
   "cell_type": "markdown",
   "id": "f93fe4cf",
   "metadata": {},
   "source": [
    "Generowane za pomocą funkcji:\n",
    "\n",
    "generuj_sin( częstotliwość , amplituda , ilość punktów , x_min , x_maks , przesunięcie)"
   ]
  },
  {
   "cell_type": "code",
   "execution_count": 2,
   "id": "a10b1581",
   "metadata": {},
   "outputs": [],
   "source": [
    "import tp3_filipaleksander as lib\n",
    "import numpy as np\n",
    "\n",
    "N = 1000\n",
    "Czestotliwosc = 1\n",
    "Amplituda = 1\n",
    "x_min = 0\n",
    "x_max = 2\n",
    "Przesuniecie = 0\n",
    "\n",
    "sygnal_sin_1 = lib.generuj_sin(Czestotliwosc,Amplituda,N,x_min,x_max,Przesuniecie)\n",
    "lib.wyswietl_2D(sygnal_sin_1[0],sygnal_sin_1[1],\"Wykres sin(t)\",\"Wartość\",\"Czas\",\"generowanie_sin_1.jpg\")\n",
    "#zapisano do pliku generowanie_sin_1.jpg\n",
    "\n",
    "N = 2000\n",
    "Czestotliwosc = 10\n",
    "Amplituda = 2\n",
    "x_min = 0\n",
    "x_max = 1\n",
    "Przesuniecie = np.pi / 4\n",
    "\n",
    "sygnal_sin_2 = lib.generuj_sin(Czestotliwosc,Amplituda,N,x_min,x_max,Przesuniecie)\n",
    "lib.wyswietl_2D(sygnal_sin_2[0],sygnal_sin_2[1],\"Wykres 2 * sin(10t + π/4)\",\"Wartość\",\"Czas\",\"generowanie_sin_2.jpg\")\n",
    "#zapisano do pliku generowanie_sin_2.jpg"
   ]
  },
  {
   "cell_type": "markdown",
   "id": "3141a115",
   "metadata": {},
   "source": [
    "![Wykres sin(t)](generowanie_sin_1.jpg)\n",
    "![Wykres 2 * sin(10t + π/4)](generowanie_sin_2.jpg)"
   ]
  },
  {
   "cell_type": "markdown",
   "id": "8b3721c7",
   "metadata": {},
   "source": [
    "## Sygnał cos"
   ]
  },
  {
   "cell_type": "markdown",
   "id": "ac012f95",
   "metadata": {},
   "source": [
    "Generowany za pomocą funkcji:\n",
    "\n",
    "generuj_cos( częstotliwość , amplituda , ilość punktów , x_min , x_maks , przesunięcie)"
   ]
  },
  {
   "cell_type": "code",
   "execution_count": 3,
   "id": "5feeddf9",
   "metadata": {},
   "outputs": [],
   "source": [
    "import tp3_filipaleksander as lib\n",
    "import numpy as np\n",
    "\n",
    "N = 1000\n",
    "Czestotliwosc = 1\n",
    "Amplituda = 1\n",
    "x_min = 0\n",
    "x_max = 2\n",
    "Przesuniecie = 0\n",
    "\n",
    "sygnal_cos_1 = lib.generuj_cos(Czestotliwosc,Amplituda,N,x_min,x_max,Przesuniecie)\n",
    "lib.wyswietl_2D(sygnal_cos_1[0],sygnal_cos_1[1],\"Wykres cos(t)\",\"Wartość\",\"Czas\",\"generowanie_cos_1.jpg\")\n",
    "#zapisano do pliku generowanie_cos_1.jpg\n",
    "\n",
    "N = 2000\n",
    "Czestotliwosc = 10\n",
    "Amplituda = 2\n",
    "x_min = 0\n",
    "x_max = 1\n",
    "Przesuniecie = np.pi / 4\n",
    "\n",
    "sygnal_cos_2 = lib.generuj_cos(Czestotliwosc,Amplituda,N,x_min,x_max,Przesuniecie)\n",
    "lib.wyswietl_2D(sygnal_cos_2[0],sygnal_cos_2[1],\"Wykres 2 * cos(10t + π/4)\",\"Wartość\",\"Czas\",\"generowanie_cos_2.jpg\")\n",
    "#zapisano do pliku generowanie_cos_2.jpg"
   ]
  },
  {
   "cell_type": "markdown",
   "id": "5aaea312",
   "metadata": {},
   "source": [
    "![Wykres cos(t)](generowanie_cos_1.jpg)\n",
    "![Wykres 2 * cos(10t + π/4)](generowanie_cos_2.jpg)"
   ]
  },
  {
   "cell_type": "markdown",
   "id": "79528bdd",
   "metadata": {},
   "source": [
    "## Sygnał prostokątny"
   ]
  },
  {
   "cell_type": "markdown",
   "id": "c57ada08",
   "metadata": {},
   "source": [
    "Generowany za pomocą funkcji:\n",
    "\n",
    "generuj_prostokatny( częstotliwość , amplituda , ilość punktów , wypełnienie ,x_min , x_maks )"
   ]
  },
  {
   "cell_type": "code",
   "execution_count": 1,
   "id": "8490a97e",
   "metadata": {},
   "outputs": [],
   "source": [
    "import tp3_filipaleksander as lib\n",
    "\n",
    "N = 1000\n",
    "Czestotliwosc = 1\n",
    "Amplituda = 1\n",
    "x_min = 0\n",
    "x_max = 5\n",
    "Wypelnienie = 50\n",
    "\n",
    "sygnal_prostokatny_1 = lib.generuj_prostokatny(Czestotliwosc,Amplituda,N,Wypelnienie,x_min,x_max)\n",
    "lib.wyswietl_2D(sygnal_prostokatny_1[0],sygnal_prostokatny_1[1],\"Wykres sygnału prostokątnego f=1Hz,A=1,W=50\",\"Wartość\",\"Czas\",\"generowanie_prostokatny_1.jpg\")\n",
    "#zapisano do pliku generowanie_prostokatny_1.jpg\n",
    "\n",
    "N = 1000\n",
    "Czestotliwosc = 10\n",
    "Amplituda = 3\n",
    "x_min = 0\n",
    "x_max = 1\n",
    "Wypelnienie = 25\n",
    "\n",
    "sygnal_prostokatny_2 = lib.generuj_prostokatny(Czestotliwosc,Amplituda,N,Wypelnienie,x_min,x_max)\n",
    "lib.wyswietl_2D(sygnal_prostokatny_2[0],sygnal_prostokatny_2[1],\"Wykres sygnału prostokątnego f=10Hz,A=3,W=25\",\"Wartość\",\"Czas\",\"generowanie_prostokatny_2.jpg\")\n",
    "#zapisano do pliku generowanie_prostokatny_2.jpg"
   ]
  },
  {
   "cell_type": "markdown",
   "id": "031fe5fc",
   "metadata": {},
   "source": [
    "![Wykres sygnału prostokątnego f=1Hz,A=1,W=50](generowanie_prostokatny_1.jpg)\n",
    "![Wykres sygnału prostokątnego f=10Hz,A=3,W=25](generowanie_prostokatny_2.jpg)"
   ]
  },
  {
   "cell_type": "markdown",
   "id": "7c733eb6",
   "metadata": {},
   "source": [
    "## Sygnał piłokształtny"
   ]
  },
  {
   "cell_type": "markdown",
   "id": "03d95758",
   "metadata": {},
   "source": [
    "Generowany za pomocą funkcji:\n",
    "\n",
    "generuj_piloksztaltny( częstotliwość , amplituda , ilość punktów , x_min , x_maks )"
   ]
  },
  {
   "cell_type": "code",
   "execution_count": 1,
   "id": "3b997c9e",
   "metadata": {},
   "outputs": [],
   "source": [
    "import tp3_filipaleksander as lib\n",
    "\n",
    "N = 1000\n",
    "Czestotliwosc = 1\n",
    "Amplituda = 1\n",
    "x_min = 0\n",
    "x_max = 5\n",
    "\n",
    "sygnal_piloksztaltny_1 = lib.generuj_piloksztaltny(Czestotliwosc,Amplituda,N,x_min,x_max)\n",
    "lib.wyswietl_2D(sygnal_piloksztaltny_1[0],sygnal_piloksztaltny_1[1],\"Sygnał piłokształtny f=1Hz,A=1\",\"Wartość\",\"Czas\",\"generowanie_piloksztaltny_1.jpg\")\n",
    "#zapisano do pliku generowanie_piloksztaltny_1.jpg\n",
    "\n",
    "N = 1000\n",
    "Czestotliwosc = 10\n",
    "Amplituda = 2\n",
    "x_min = 0\n",
    "x_max = 1\n",
    "\n",
    "sygnal_piloksztaltny_2 = lib.generuj_piloksztaltny(Czestotliwosc,Amplituda,N,x_min,x_max)\n",
    "lib.wyswietl_2D(sygnal_piloksztaltny_2[0],sygnal_piloksztaltny_2[1],\"Sygnał piłokształtny f=10Hz,A=2\",\"Wartość\",\"Czas\",\"generowanie_piloksztaltny_2.jpg\")\n",
    "#zapisano do pliku generowanie_piloksztaltny_2.jpg\n"
   ]
  },
  {
   "cell_type": "markdown",
   "id": "7c0be3b8",
   "metadata": {},
   "source": [
    "![Sygnał piłokształtny f=1Hz,A=1](generowanie_piloksztaltny_1.jpg)\n",
    "![Sygnał piłokształtny f=10Hz,A=2](generowanie_piloksztaltny_2.jpg)"
   ]
  },
  {
   "cell_type": "markdown",
   "id": "662eac7f",
   "metadata": {},
   "source": [
    "# 5. Zaszumianie (Zadanie dodatkowe 8)"
   ]
  },
  {
   "cell_type": "markdown",
   "id": "b7bba960",
   "metadata": {},
   "source": [
    "Za pomocą funkcji:\n",
    "\n",
    "zaszum( sygnał , Moc zaszumiania)"
   ]
  },
  {
   "cell_type": "code",
   "execution_count": 1,
   "id": "49fdc837",
   "metadata": {},
   "outputs": [],
   "source": [
    "import tp3_filipaleksander as lib\n",
    "\n",
    "sygnal_sin = lib.generuj_sin(1,1,1000,0,10,0)[1]\n",
    "lib.wyswietl_1D(sygnal_sin,\"Sygnał wejściowy sin(t)\",\"Wartość\",\"zaszumianie_sin_wejscie.jpg\")\n",
    "#zapisano do pliku zaszumianie_sin_wejście.jpg\n",
    "\n",
    "Moc_zaszumiania = 10\n",
    "sygnal_zaszumiony_10 = lib.zaszum(sygnal_sin,Moc_zaszumiania)\n",
    "lib.wyswietl_1D(sygnal_zaszumiony_10,\"Sygnał sin(t) zaszumiony 10%\",\"Wartość\",\"zaszumianie_sin_10.jpg\")\n",
    "#zapisano do pliku zaszumianie_sin_10.jpg\n",
    "\n",
    "Moc_zaszumiania = 30\n",
    "sygnal_zaszumiony_30 = lib.zaszum(sygnal_sin,Moc_zaszumiania)\n",
    "lib.wyswietl_1D(sygnal_zaszumiony_30,\"Sygnał sin(t) zaszumiony 30%\",\"Wartość\",\"zaszumianie_sin_30.jpg\")\n",
    "#zapisano do pliku zaszumianie_sin_30.jpg"
   ]
  },
  {
   "cell_type": "markdown",
   "id": "231c404c",
   "metadata": {},
   "source": [
    "![Sygnał wejściowy sin(t)](zaszumianie_sin_wejscie.jpg)\n",
    "![Sygnał sin(t) zaszumiony 10%](zaszumianie_sin_10.jpg)\n",
    "![Sygnał sin(t) zaszumiony 30%](zaszumianie_sin_30.jpg)"
   ]
  }
 ],
 "metadata": {
  "kernelspec": {
   "display_name": "Python 3",
   "language": "python",
   "name": "python3"
  },
  "language_info": {
   "codemirror_mode": {
    "name": "ipython",
    "version": 3
   },
   "file_extension": ".py",
   "mimetype": "text/x-python",
   "name": "python",
   "nbconvert_exporter": "python",
   "pygments_lexer": "ipython3",
   "version": "3.13.3"
  }
 },
 "nbformat": 4,
 "nbformat_minor": 5
}
