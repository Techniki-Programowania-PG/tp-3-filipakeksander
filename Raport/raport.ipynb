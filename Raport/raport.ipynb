{
 "cells": [
  {
   "cell_type": "markdown",
   "id": "130aff52",
   "metadata": {},
   "source": [
    "# TECHNIKI PROGRAMOWANIA - projekt 3\n",
    "### Filip Skudlarz 203314\n",
    "### Aleksander Kargol 203225\n",
    "\n",
    "Wykorzystane biblioteki:\n",
    "- matplotplusplus (c++)\n",
    "- pybind11 (c++)\n",
    "- vector (c++)\n",
    "- cstdlib (c++)\n",
    "- cmath (c++)\n",
    "- complex (c++)\n",
    "- ctime (c++)\n",
    "- NumPy (Python, tylko do prezentacji filtracji)\n",
    "- Pillow (Python, tylko do prezentacji filtracji 2D)"
   ]
  },
  {
   "cell_type": "markdown",
   "id": "9b3ab60d",
   "metadata": {},
   "source": [
    "# Wizualizacja wykresów 1D\n",
    "Za pomocą wyswietl_1D( sygnał , Tytuł wykresu , Nazwa osi Y , Nazwa pliku)\n",
    "\n",
    "Funkcja ta wyświetla / zapisuje sygnał, gdzie oś X składa się z indeksów sygnału, a oś Y wartości na danych indeksach"
   ]
  },
  {
   "cell_type": "code",
   "execution_count": 1,
   "id": "afe9f0aa",
   "metadata": {},
   "outputs": [],
   "source": [
    "import tp3_filipaleksander as lib\n",
    "\n",
    "sin = lib.generuj_sin(1,1,2000,0,10,0)\n",
    "lib.wyswietl_1D(sin[1],\"Wykres 1D sin(2πft)\",\"Wartość\",\"wizualizacja_1D_sin.jpg\") \n",
    "#zapisano do pliku wizualizacja_1D_sin.jpg\n",
    "\n",
    "prostokatny = lib.generuj_prostokatny(2,2,500,50,0,2)\n",
    "lib.wyswietl_1D(prostokatny[1],\"Wykres 1D sygnału prostokątnego\",\"Wartość\",\"wizualizacja_1D_prostokatny.jpg\") \n",
    "#zapisano do pliku wizualizacja_1D_prostokatny.jpg"
   ]
  },
  {
   "cell_type": "markdown",
   "id": "4a75c126",
   "metadata": {},
   "source": [
    "![Wykres 1D sinusa](wizualizacja_1D_sin.jpg)\n",
    "![Wykres 1D sygnału prostokątnego](wizualizacja_1D_prostokatny.jpg)"
   ]
  },
  {
   "cell_type": "markdown",
   "id": "03234bcd",
   "metadata": {},
   "source": [
    "# Wizualizacja wykresów 2D\n",
    "Za pomocą wyswietl_2D( oś X, oś Y , Tytuł wykresu , Nazwa osi Y , Nazwa osi X , Nazwa pliku)\n",
    "\n",
    "Funkcja ta wyświetla/zapisuje wykres y(x)"
   ]
  },
  {
   "cell_type": "code",
   "execution_count": 2,
   "id": "d196ad04",
   "metadata": {},
   "outputs": [],
   "source": [
    "import tp3_filipaleksander as lib\n",
    "\n",
    "sygnal_cos = lib.generuj_cos(1,1,1000,0,10,0)\n",
    "lib.wyswietl_2D(sygnal_cos[0],sygnal_cos[1],\"Wykres 2D cos(2πft)\",\"Wartość\",\"Czas\",\"wizualizacja_2D_cos.jpg\")\n",
    "#zapisano do pliku wizualizacja_2D_cos.jpg\n",
    "\n",
    "sygnal_prostokat = lib.generuj_prostokatny(10,1.5,2000,70,0,1)\n",
    "lib.wyswietl_2D(sygnal_prostokat[0],sygnal_prostokat[1],\"Wykres 2D sygnału prostokątnego\",\"Wartość\",\"Czas\",\"wizualizacja_2D_prostokatny.jpg\")\n",
    "#zapisano do pliku wizualizacja_2D_prostokatny.jpg"
   ]
  },
  {
   "cell_type": "markdown",
   "id": "fb2cb008",
   "metadata": {},
   "source": [
    "![Wykres 2D cos](wizualizacja_2D_cos.jpg)\n",
    "![Wykres 2D sygnału prostokątnego](wizualizacja_2D_prostokatny.jpg)"
   ]
  },
  {
   "cell_type": "markdown",
   "id": "1e06e77d",
   "metadata": {},
   "source": [
    "# Dyskretna Transformata Fouriera i transformata odwrotna\n",
    "Wykonnane za pomocą funkcji:\n",
    "\n",
    "dft( sygnał ) - oblicza dyskretną transformatę Fouriera danego sygnału\n",
    "\n",
    "idft( transformata ) - oblicza transformatę odwrotną danej transformaty\n",
    "\n",
    "wyswietl_amplitude_dft( transformata , Częstotliwość próbkowania , Czy tylko dodatnie częstotliwości , Tytuł wykresu , Nazwa pliku) - wyświetla amplitudy transformaty w danych częstotliwościach"
   ]
  },
  {
   "cell_type": "markdown",
   "id": "47b5940c",
   "metadata": {},
   "source": [
    "## Przykład 1: sin(20t)"
   ]
  },
  {
   "cell_type": "code",
   "execution_count": 3,
   "id": "bac45def",
   "metadata": {},
   "outputs": [],
   "source": [
    "import tp3_filipaleksander as lib\n",
    "\n",
    "N = 1000\n",
    "Czestotliwosc = 20\n",
    "Amplituda = 1\n",
    "x_min = 0\n",
    "x_max = 1\n",
    "\n",
    "sygnal_sin = lib.generuj_sin(Czestotliwosc,Amplituda,N,x_min,x_max,0)[1]\n",
    "lib.wyswietl_1D(sygnal_sin,\"Sygnał sin(20t)\",\"Wartość\",\"dft_sygnal_wejsciowy_sin.jpg\")\n",
    "#zapisano do pliku dft_sygnal_wejsciowy_sin.jpg\n",
    "\n",
    "transformata_sin = lib.dft(sygnal_sin)\n",
    "#obliczenie transformaty tego sygnału\n",
    "\n",
    "lib.wyswietl_1D(lib.wartosc_bezwzgledna(transformata_sin),\"Wykres 1D modułu dft sin(20t)\",\"\",\"dft_modul_transformaty_sin.jpg\")\n",
    "#zapisano do pliku dft_modul_transformaty_sin.jpg\n",
    "\n",
    "czestotliwosc_probkowania = N / (x_max - x_min)\n",
    "lib.wyswietl_amplitude_dft(transformata_sin,czestotliwosc_probkowania,True,\"Wykres amplitud z sin(20t) otrzymanych przez dft\",\"dft_amplitudy_sin.jpg\")\n",
    "#zapisano do pliku dft_amplitudy_sin.jpg\n",
    "\n",
    "idft_sin = lib.idft(transformata_sin)\n",
    "lib.wyswietl_1D(idft_sin,\"Wykres odwróconej transformaty sin(20t)\",\"Wartość\",\"dft_idft_sin.jpg\")\n",
    "#apisano do pliku dft_idft_sin.jpg"
   ]
  },
  {
   "cell_type": "markdown",
   "id": "5ddefecf",
   "metadata": {},
   "source": [
    "![Sygnał sin(20t)](dft_sygnal_wejsciowy_sin.jpg)\n",
    "![Wykres 1D modułu dft sin(20t)](dft_modul_transformaty_sin.jpg)\n",
    "![Wykres amplitud z sin(20t) otrzymanych przez dft](dft_amplitudy_sin.jpg)\n",
    "![Wykres odwróconej transformaty sin(20t)](dft_idft_sin.jpg)"
   ]
  },
  {
   "cell_type": "markdown",
   "id": "33708bf4",
   "metadata": {},
   "source": [
    "## Przykład 2: sygnał prostokątny"
   ]
  },
  {
   "cell_type": "code",
   "execution_count": 4,
   "id": "adf123d3",
   "metadata": {},
   "outputs": [],
   "source": [
    "import tp3_filipaleksander as lib\n",
    "\n",
    "N = 5000\n",
    "Czestotliwosc = 5\n",
    "Amplituda = 2\n",
    "Wypelnienie = 50\n",
    "x_min = 0\n",
    "x_max = 10\n",
    "\n",
    "sygnal_prostokat = lib.generuj_prostokatny(Czestotliwosc,Amplituda,N,Wypelnienie,x_min,x_max)[1]\n",
    "lib.wyswietl_1D(sygnal_prostokat,\"Sygnal wejściowy prostokatny\",\"Wartość\",\"dft_sygnal_wejsciowy_prostokat.jpg\")\n",
    "#zapisano do pliku dft_sygnal_wejsciowy_prostokat.jpg\n",
    "\n",
    "transformata_prostokat = lib.dft(sygnal_prostokat)\n",
    "lib.wyswietl_1D(lib.wartosc_bezwzgledna(transformata_prostokat),\"Wykres 1D modułu dft sygnału prostokątnego\",\"\",\"dft_modul_transformaty_prostokat.jpg\")\n",
    "#zapisano do pliku dft_modul_transformaty_prostokat.jpg\n",
    "\n",
    "czestotliwosc_probkowania = N / (x_max - x_min)\n",
    "lib.wyswietl_amplitude_dft(transformata_prostokat,czestotliwosc_probkowania,False,\"Wykres amplitud z sygnału prostokątnego otrzymanych przez dft\",\"dft_amplitudy_prostokat.jpg\")\n",
    "#zapisano do pliku dft_amplitudy_prostokat.jpg\n",
    "\n",
    "idft_prostokat = lib.idft(transformata_prostokat)\n",
    "lib.wyswietl_1D(idft_prostokat,\"Wykres odwróconej transformaty sygnału prostokątnego\",\"Wartość\",\"dft_idft_prostokat.jpg\")\n",
    "#apisano do pliku dft_idft_prostkat.jpg"
   ]
  },
  {
   "cell_type": "markdown",
   "id": "1b395002",
   "metadata": {},
   "source": [
    "![Sygnal wejściowy prostokatny](dft_sygnal_wejsciowy_prostokat.jpg)\n",
    "![Wykres 1D modułu dft sygnału prostokątnego](dft_modul_transformaty_prostokat.jpg)\n",
    "![Wykres amplitud z sygnału prostokątnego otrzymanych przez dft](dft_amplitudy_prostokat.jpg)\n",
    "![Wykres odwróconej transformaty sygnału prostokątnego](dft_idft_prostokat.jpg)"
   ]
  }
 ],
 "metadata": {
  "kernelspec": {
   "display_name": "Python 3",
   "language": "python",
   "name": "python3"
  },
  "language_info": {
   "codemirror_mode": {
    "name": "ipython",
    "version": 3
   },
   "file_extension": ".py",
   "mimetype": "text/x-python",
   "name": "python",
   "nbconvert_exporter": "python",
   "pygments_lexer": "ipython3",
   "version": "3.13.3"
  }
 },
 "nbformat": 4,
 "nbformat_minor": 5
}
