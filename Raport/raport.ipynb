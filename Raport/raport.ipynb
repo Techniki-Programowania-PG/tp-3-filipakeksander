{
 "cells": [
  {
   "cell_type": "markdown",
   "id": "130aff52",
   "metadata": {},
   "source": [
    "# TECHNIKI PROGRAMOWANIA - projekt 3\n",
    "### Filip Skudlarz 203314\n",
    "### Aleksander Kargol 203225\n",
    "\n",
    "Wykorzystane biblioteki:\n",
    "- matplotplusplus (c++)\n",
    "- pybind11 (c++)\n",
    "- vector (c++)\n",
    "- cstdlib (c++)\n",
    "- cmath (c++)\n",
    "- complex (c++)\n",
    "- ctime (c++)\n",
    "- Pillow (Python, tylko do prezentacji filtracji 2D)\n",
    "- NumPy (Python, tylko do prezentacji filtracji 2D)"
   ]
  },
  {
   "cell_type": "markdown",
   "id": "9b3ab60d",
   "metadata": {},
   "source": [
    "# Wizualizacja wykresów 1D\n",
    "Funkcja, która wyświetla sygnał, gdzie oś X składa się z indeksów sygnału, a oś Y wartości na danych indeksach"
   ]
  },
  {
   "cell_type": "code",
   "execution_count": null,
   "id": "afe9f0aa",
   "metadata": {},
   "outputs": [],
   "source": [
    "import tp3_filipaleksander as lib\n",
    "\n",
    "sin = lib.generuj_sin(1,1,2000,0,10,0)\n",
    "lib.wyswietl_1D(sin[1],\"Wykres 1D sin(2πft)\",\"Wartość\",\"wizualizacja_1D_sin.jpg\") \n",
    "#zapisano do pliku wizualizacja_1D_sin.jpg\n",
    "\n",
    "prostokatny = lib.generuj_prostokatny(2,2,500,50,0,2)\n",
    "lib.wyswietl_1D(prostokatny[1],\"Wykres 1D sygnału prostokątnego\",\"Wartość\",\"wizualizacja_1D_prostokatny.jpg\") \n",
    "#zapisano do pliku wizualizacja_1D_prostokatny.jpg"
   ]
  },
  {
   "cell_type": "markdown",
   "id": "4a75c126",
   "metadata": {},
   "source": [
    "![Wykres 1D sinusa](wizualizacja_1D_sin.jpg)\n",
    "![Wykres 1D sygnału prostokątnego](wizualizacja_1D_prostokatny.jpg)"
   ]
  },
  {
   "cell_type": "markdown",
   "id": "03234bcd",
   "metadata": {},
   "source": [
    "# Wizualizacja wykresów 2D\n",
    "Funkcja, która generuje wykres sygnału y(x)"
   ]
  },
  {
   "cell_type": "code",
   "execution_count": 1,
   "id": "d196ad04",
   "metadata": {},
   "outputs": [],
   "source": [
    "import tp3_filipaleksander as lib\n",
    "\n",
    "sygnal_cos = lib.generuj_cos(1,1,1000,0,10,0)\n",
    "lib.wyswietl_2D(sygnal_cos[0],sygnal_cos[1],\"Wykres 2D cos(2πft)\",\"Wartość\",\"Czas\",\"wizualizacja_2D_cos.jpg\")\n",
    "#zapisano do pliku wizualizacja_2D_cos.jpg\n",
    "\n",
    "sygnal_prostokat = lib.generuj_prostokatny(10,1.5,2000,70,0,1)\n",
    "lib.wyswietl_2D(sygnal_prostokat[0],sygnal_prostokat[1],\"Wykres 2D sygnału prostokątnego\",\"Wartość\",\"Czas\",\"wizualizacja_2D_prostokatny.jpg\")\n",
    "#zapisano do pliku wizualizacja_2D_prostokatny.jpg"
   ]
  },
  {
   "cell_type": "markdown",
   "id": "fb2cb008",
   "metadata": {},
   "source": [
    "![Wykres 2D cos](wizualizacja_2D_cos.jpg)\n",
    "![Wykres 2D sygnału prostokątnego](wizualizacja_2D_prostokatny.jpg)"
   ]
  }
 ],
 "metadata": {
  "kernelspec": {
   "display_name": "Python 3",
   "language": "python",
   "name": "python3"
  },
  "language_info": {
   "codemirror_mode": {
    "name": "ipython",
    "version": 3
   },
   "file_extension": ".py",
   "mimetype": "text/x-python",
   "name": "python",
   "nbconvert_exporter": "python",
   "pygments_lexer": "ipython3",
   "version": "3.13.3"
  }
 },
 "nbformat": 4,
 "nbformat_minor": 5
}
